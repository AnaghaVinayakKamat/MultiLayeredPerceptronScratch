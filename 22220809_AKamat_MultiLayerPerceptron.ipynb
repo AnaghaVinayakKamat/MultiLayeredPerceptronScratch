{
 "cells": [
  {
   "cell_type": "markdown",
   "id": "eacd9664",
   "metadata": {},
   "source": [
    "# All code in this notebook is by Anagha Vinayak Kamat ID- 22220809"
   ]
  },
  {
   "cell_type": "code",
   "execution_count": null,
   "id": "4c45e65f",
   "metadata": {},
   "outputs": [],
   "source": []
  },
  {
   "cell_type": "code",
   "execution_count": null,
   "id": "c05ca8db",
   "metadata": {},
   "outputs": [],
   "source": []
  },
  {
   "cell_type": "markdown",
   "id": "f43b1c12",
   "metadata": {},
   "source": [
    "# IMPORT MODULES"
   ]
  },
  {
   "cell_type": "code",
   "execution_count": 1,
   "id": "0a5d9e9b",
   "metadata": {},
   "outputs": [],
   "source": [
    "import matplotlib.pyplot as plt\n",
    "import seaborn as sns\n",
    "import numpy as np\n",
    "import pandas as pd"
   ]
  },
  {
   "cell_type": "markdown",
   "id": "1da19d28",
   "metadata": {},
   "source": [
    "# DATA PREPARATION"
   ]
  },
  {
   "cell_type": "code",
   "execution_count": 2,
   "id": "1b6443ff",
   "metadata": {},
   "outputs": [
    {
     "data": {
      "text/html": [
       "<div>\n",
       "<style scoped>\n",
       "    .dataframe tbody tr th:only-of-type {\n",
       "        vertical-align: middle;\n",
       "    }\n",
       "\n",
       "    .dataframe tbody tr th {\n",
       "        vertical-align: top;\n",
       "    }\n",
       "\n",
       "    .dataframe thead th {\n",
       "        text-align: right;\n",
       "    }\n",
       "</style>\n",
       "<table border=\"1\" class=\"dataframe\">\n",
       "  <thead>\n",
       "    <tr style=\"text-align: right;\">\n",
       "      <th></th>\n",
       "      <th>fire</th>\n",
       "      <th>year</th>\n",
       "      <th>temp</th>\n",
       "      <th>humidity</th>\n",
       "      <th>rainfall</th>\n",
       "      <th>drought_code</th>\n",
       "      <th>buildup_index</th>\n",
       "      <th>day</th>\n",
       "      <th>month</th>\n",
       "      <th>wind_speed</th>\n",
       "    </tr>\n",
       "  </thead>\n",
       "  <tbody>\n",
       "    <tr>\n",
       "      <th>0</th>\n",
       "      <td>no</td>\n",
       "      <td>2015</td>\n",
       "      <td>28</td>\n",
       "      <td>59</td>\n",
       "      <td>0.0</td>\n",
       "      <td>8.06</td>\n",
       "      <td>3.47</td>\n",
       "      <td>1</td>\n",
       "      <td>6</td>\n",
       "      <td>19</td>\n",
       "    </tr>\n",
       "    <tr>\n",
       "      <th>1</th>\n",
       "      <td>no</td>\n",
       "      <td>2010</td>\n",
       "      <td>30</td>\n",
       "      <td>61</td>\n",
       "      <td>1.3</td>\n",
       "      <td>8.17</td>\n",
       "      <td>4.03</td>\n",
       "      <td>2</td>\n",
       "      <td>6</td>\n",
       "      <td>13</td>\n",
       "    </tr>\n",
       "    <tr>\n",
       "      <th>2</th>\n",
       "      <td>no</td>\n",
       "      <td>2009</td>\n",
       "      <td>26</td>\n",
       "      <td>83</td>\n",
       "      <td>13.1</td>\n",
       "      <td>8.08</td>\n",
       "      <td>3.59</td>\n",
       "      <td>3</td>\n",
       "      <td>6</td>\n",
       "      <td>22</td>\n",
       "    </tr>\n",
       "    <tr>\n",
       "      <th>3</th>\n",
       "      <td>no</td>\n",
       "      <td>2017</td>\n",
       "      <td>25</td>\n",
       "      <td>87</td>\n",
       "      <td>2.5</td>\n",
       "      <td>7.18</td>\n",
       "      <td>2.42</td>\n",
       "      <td>4</td>\n",
       "      <td>6</td>\n",
       "      <td>15</td>\n",
       "    </tr>\n",
       "    <tr>\n",
       "      <th>4</th>\n",
       "      <td>no</td>\n",
       "      <td>2014</td>\n",
       "      <td>28</td>\n",
       "      <td>77</td>\n",
       "      <td>0.0</td>\n",
       "      <td>14.98</td>\n",
       "      <td>4.63</td>\n",
       "      <td>5</td>\n",
       "      <td>6</td>\n",
       "      <td>18</td>\n",
       "    </tr>\n",
       "  </tbody>\n",
       "</table>\n",
       "</div>"
      ],
      "text/plain": [
       "  fire  year  temp  humidity  rainfall  drought_code  buildup_index  day  \\\n",
       "0   no  2015    28        59       0.0          8.06           3.47    1   \n",
       "1   no  2010    30        61       1.3          8.17           4.03    2   \n",
       "2   no  2009    26        83      13.1          8.08           3.59    3   \n",
       "3   no  2017    25        87       2.5          7.18           2.42    4   \n",
       "4   no  2014    28        77       0.0         14.98           4.63    5   \n",
       "\n",
       "   month  wind_speed  \n",
       "0      6          19  \n",
       "1      6          13  \n",
       "2      6          22  \n",
       "3      6          15  \n",
       "4      6          18  "
      ]
     },
     "execution_count": 2,
     "metadata": {},
     "output_type": "execute_result"
    }
   ],
   "source": [
    "data = pd.read_table('wildfires.txt', delim_whitespace=True)    # used delim_whitespace to remove blank spaces if any exists\n",
    "data.head()"
   ]
  },
  {
   "cell_type": "code",
   "execution_count": 3,
   "id": "a71e88e2",
   "metadata": {},
   "outputs": [
    {
     "data": {
      "text/plain": [
       "Index(['fire', 'year', 'temp', 'humidity', 'rainfall', 'drought_code',\n",
       "       'buildup_index', 'day', 'month', 'wind_speed'],\n",
       "      dtype='object')"
      ]
     },
     "execution_count": 3,
     "metadata": {},
     "output_type": "execute_result"
    }
   ],
   "source": [
    "data.keys()"
   ]
  },
  {
   "cell_type": "code",
   "execution_count": 4,
   "id": "aea8c634",
   "metadata": {},
   "outputs": [
    {
     "data": {
      "text/plain": [
       "1    107\n",
       "0     97\n",
       "Name: fire, dtype: int64"
      ]
     },
     "execution_count": 4,
     "metadata": {},
     "output_type": "execute_result"
    }
   ],
   "source": [
    "# Convert the yes and no data into binary form\n",
    "\n",
    "data['fire'] = data['fire'].map({'yes':1, 'no':0})\n",
    "data['fire'].value_counts()"
   ]
  },
  {
   "cell_type": "code",
   "execution_count": 5,
   "id": "891063d8",
   "metadata": {},
   "outputs": [],
   "source": [
    "# divide the data in x and y i.e. input and output dataset\n",
    "\n",
    "inputs = ['year', 'temp', 'humidity', 'rainfall', 'drought_code', 'buildup_index', 'day', 'month', 'wind_speed']\n",
    "features = data.loc[:, inputs]\n",
    "target = data.loc[:, ['fire']]"
   ]
  },
  {
   "cell_type": "code",
   "execution_count": null,
   "id": "a040888f",
   "metadata": {},
   "outputs": [],
   "source": []
  },
  {
   "cell_type": "code",
   "execution_count": 6,
   "id": "041a85e3",
   "metadata": {},
   "outputs": [],
   "source": [
    "# split the data into training and testing form\n",
    "\n",
    "from sklearn.model_selection import train_test_split\n",
    "\n",
    "x_train, x_test, y_train, y_test = train_test_split(features, target, random_state=3, test_size = 0.33)\n"
   ]
  },
  {
   "cell_type": "code",
   "execution_count": 7,
   "id": "5afa145a",
   "metadata": {},
   "outputs": [],
   "source": [
    "# DATA NORMALIZATION\n",
    "\n",
    "from sklearn import preprocessing\n",
    "\n",
    "x_train_normalize = preprocessing.normalize(x_train)\n",
    "x_test_normalize = preprocessing.normalize(x_test)\n",
    "y_train_normalize = preprocessing.normalize(y_train)\n",
    "y_test_normalize = preprocessing.normalize(y_test)\n"
   ]
  },
  {
   "cell_type": "markdown",
   "id": "04dc31e1",
   "metadata": {},
   "source": [
    "# ALGORITHM CONSTRUCTION"
   ]
  },
  {
   "cell_type": "code",
   "execution_count": 8,
   "id": "431306b2",
   "metadata": {},
   "outputs": [],
   "source": [
    "# define activation function \n",
    "\n",
    "def sigmoid(x):\n",
    "    return 1.0 / (1.0 + np.exp(-x))\n",
    "\n",
    "# Create derivative of the activation function to obtain the gradient descent\n",
    "def der_sigmoid(x):\n",
    "    return x * (1 - x)"
   ]
  },
  {
   "cell_type": "markdown",
   "id": "d47b2f75",
   "metadata": {},
   "source": [
    "# DEFINE ERROR AND ACCURACY"
   ]
  },
  {
   "cell_type": "code",
   "execution_count": 9,
   "id": "6016de16",
   "metadata": {},
   "outputs": [],
   "source": [
    "def mse(y_true,y_pred):\n",
    "    return 0.5*((y_pred-y_true)**2).mean()\n",
    "\n",
    "def accuracy(y_true, y_pred):\n",
    "    error = mse(y_true, y_pred)\n",
    "    return 1 - (error/len(y_pred))"
   ]
  },
  {
   "cell_type": "markdown",
   "id": "d4bb7a0d",
   "metadata": {},
   "source": [
    "# PERCEPTRON CONSTRUCTION"
   ]
  },
  {
   "cell_type": "code",
   "execution_count": 10,
   "id": "8a11c3d5",
   "metadata": {},
   "outputs": [],
   "source": [
    "# create a function predict that'll predict the accuracy and error of the perceptron model\n",
    "\n",
    "\n",
    "def predict(x,y):\n",
    "    for i in range(1,1000):                                 # make up to 1000 iterations for the model to give final output\n",
    "        \n",
    "        '''Assign the initial inputs, outputs, learning rate, bias and randomly generate initial weights'''\n",
    "        \n",
    "        inputs = 9\n",
    "        outputs = 1\n",
    "        lr = 0.01\n",
    "        bias = 0.5\n",
    "        w1 = np.random.rand(9,1)\n",
    "        w2 = np.random.rand(1,9)\n",
    "        \n",
    "        '''above we kep weights as (9,1) first because we have 9 inputs hence it'll assign 9 weights to each input. Later, \n",
    "        for second weight, we keep the matrix shape as (1,9) to match the shape of hidden layer formed and input for \n",
    "        obtaining the dot product '''\n",
    "        \n",
    "        for idx,input in enumerate(x):                       # iterate through the each and every column and row of the data\n",
    "            h1 = np.dot(input,w1) + bias                     # perform dot product of the input data and the weights\n",
    "            h1o = sigmoid(h1)                       # we apply sigmoid activation function to obtain the output of hidden layer\n",
    "            y1 = np.dot(h1o,w2) + bias              # now perform the dot product operation on hidden layers output and weights\n",
    "            y1o = sigmoid(y1)                                # apply sigmoid activation function and obtain the main output\n",
    "            error = mse(x, y1o)                              # calculate the error in the actual output and predicted output\n",
    "            w1 = w1 - lr*der_sigmoid(error)                  # update weights everytime for back propagation\n",
    "            w2 = w2 - lr*der_sigmoid(error)                  \n",
    "            bias = bias - lr*der_sigmoid(error)              # update bias for back propagation\n",
    "            acc = accuracy(y, y1o)\n",
    "    return error, acc"
   ]
  },
  {
   "cell_type": "code",
   "execution_count": 11,
   "id": "799388f6",
   "metadata": {
    "scrolled": true
   },
   "outputs": [
    {
     "data": {
      "text/plain": [
       "(0.18088673553685602, 0.9850755625940095)"
      ]
     },
     "execution_count": 11,
     "metadata": {},
     "output_type": "execute_result"
    }
   ],
   "source": [
    "error1, acc1 = predict(x_test_normalize, y_test_normalize)\n",
    "error1, acc1"
   ]
  },
  {
   "cell_type": "code",
   "execution_count": 12,
   "id": "b7e6e75c",
   "metadata": {},
   "outputs": [
    {
     "name": "stdout",
     "output_type": "stream",
     "text": [
      "0.21027118258099708 0.9856416917372105\n",
      "0.1870296833913299 0.9859550778430017\n",
      "0.18904573890526957 0.9858562107354709\n",
      "0.1990779588457184 0.9858596710287056\n",
      "0.19384360492085687 0.985862186088468\n"
     ]
    }
   ],
   "source": [
    "# initialize empty lists to store the outputs later\n",
    "\n",
    "epochs = []\n",
    "accu_list = []\n",
    "error_list = []\n",
    "\n",
    "# loop 5 times to obtain a range of outputs five times\n",
    "for i in range(1,6):\n",
    "    \n",
    "    epochs.append(i)              # store the array of number of times the loop has run for graphical comparison later on\n",
    "    \n",
    "    # split the data into training and testing form\n",
    "\n",
    "    from sklearn.model_selection import train_test_split\n",
    "    \n",
    "    # repeat the above steps again to obtain variations in data and hence variations in output as well\n",
    "    \n",
    "    x_train, x_test, y_train, y_test = train_test_split(features, target, random_state=4, test_size = 0.33)    \n",
    "    \n",
    "    # normalize the data\n",
    "    \n",
    "    from sklearn import preprocessing\n",
    "    x_train_normalize = preprocessing.normalize(x_train)\n",
    "    x_test_normalize = preprocessing.normalize(x_test)\n",
    "    y_train_normalize = preprocessing.normalize(y_train)\n",
    "    y_test_normalize = preprocessing.normalize(y_test)\n",
    "    \n",
    "    # store the error and accuracy obtained after each prediction \n",
    "    \n",
    "    err, accu = predict(x_test_normalize, y_test_normalize)        # store the accuracy and error of the model \n",
    "    print(err, accu)\n",
    "    accu_list.append(accu)                                         # append the list of all accuracies in the accu_list \n",
    "    error_list.append(err)                                         # append the list of all error in the error_list"
   ]
  },
  {
   "cell_type": "markdown",
   "id": "2caf6a29",
   "metadata": {},
   "source": [
    "# VISUALIZING THE OUTPUT DATA USING MY ALGORITHM"
   ]
  },
  {
   "cell_type": "code",
   "execution_count": 13,
   "id": "e0abb6b0",
   "metadata": {},
   "outputs": [
    {
     "data": {
      "image/png": "[encoded data removed]",
      "text/plain": [
       "<Figure size 432x288 with 1 Axes>"
      ]
     },
     "metadata": {
      "needs_background": "light"
     },
     "output_type": "display_data"
    }
   ],
   "source": [
    "# Visualizing the errors increment or decrement in every 5 iterations \n",
    "\n",
    "plt.plot(epochs,error_list)\n",
    "plt.xlabel('Epochs')\n",
    "plt.ylabel('Errors')\n",
    "plt.show()"
   ]
  },
  {
   "cell_type": "code",
   "execution_count": 14,
   "id": "a2f0d8c8",
   "metadata": {},
   "outputs": [
    {
     "data": {
      "image/png": "[encoded data removed]",
      "text/plain": [
       "<Figure size 432x288 with 1 Axes>"
      ]
     },
     "metadata": {
      "needs_background": "light"
     },
     "output_type": "display_data"
    }
   ],
   "source": [
    "# Visualizing the accuracy increment or decrement in every 5 iterations \n",
    "\n",
    "plt.plot(epochs,accu_list)\n",
    "plt.xlabel('Epochs')\n",
    "plt.ylabel('Accuracy')\n",
    "plt.show()"
   ]
  },
  {
   "cell_type": "markdown",
   "id": "3f1be235",
   "metadata": {},
   "source": [
    "# DATA VISUALIZATION OF OUTPUT USING PRE_BUILT ALGORITHMS"
   ]
  },
  {
   "cell_type": "code",
   "execution_count": 15,
   "id": "6217c9f5",
   "metadata": {},
   "outputs": [
    {
     "name": "stderr",
     "output_type": "stream",
     "text": [
      "C:\\Users\\anagh\\AppData\\Local\\Programs\\Python\\Python310\\lib\\site-packages\\sklearn\\neural_network\\_multilayer_perceptron.py:1118: DataConversionWarning: A column-vector y was passed when a 1d array was expected. Please change the shape of y to (n_samples, ), for example using ravel().\n",
      "  y = column_or_1d(y, warn=True)\n",
      "C:\\Users\\anagh\\AppData\\Local\\Programs\\Python\\Python310\\lib\\site-packages\\sklearn\\neural_network\\_multilayer_perceptron.py:702: ConvergenceWarning: Stochastic Optimizer: Maximum iterations (1000) reached and the optimization hasn't converged yet.\n",
      "  warnings.warn(\n",
      "C:\\Users\\anagh\\AppData\\Local\\Programs\\Python\\Python310\\lib\\site-packages\\sklearn\\neural_network\\_multilayer_perceptron.py:1118: DataConversionWarning: A column-vector y was passed when a 1d array was expected. Please change the shape of y to (n_samples, ), for example using ravel().\n",
      "  y = column_or_1d(y, warn=True)\n",
      "C:\\Users\\anagh\\AppData\\Local\\Programs\\Python\\Python310\\lib\\site-packages\\sklearn\\neural_network\\_multilayer_perceptron.py:702: ConvergenceWarning: Stochastic Optimizer: Maximum iterations (1000) reached and the optimization hasn't converged yet.\n",
      "  warnings.warn(\n",
      "C:\\Users\\anagh\\AppData\\Local\\Programs\\Python\\Python310\\lib\\site-packages\\sklearn\\neural_network\\_multilayer_perceptron.py:1118: DataConversionWarning: A column-vector y was passed when a 1d array was expected. Please change the shape of y to (n_samples, ), for example using ravel().\n",
      "  y = column_or_1d(y, warn=True)\n",
      "C:\\Users\\anagh\\AppData\\Local\\Programs\\Python\\Python310\\lib\\site-packages\\sklearn\\neural_network\\_multilayer_perceptron.py:702: ConvergenceWarning: Stochastic Optimizer: Maximum iterations (1000) reached and the optimization hasn't converged yet.\n",
      "  warnings.warn(\n",
      "C:\\Users\\anagh\\AppData\\Local\\Programs\\Python\\Python310\\lib\\site-packages\\sklearn\\neural_network\\_multilayer_perceptron.py:1118: DataConversionWarning: A column-vector y was passed when a 1d array was expected. Please change the shape of y to (n_samples, ), for example using ravel().\n",
      "  y = column_or_1d(y, warn=True)\n",
      "C:\\Users\\anagh\\AppData\\Local\\Programs\\Python\\Python310\\lib\\site-packages\\sklearn\\neural_network\\_multilayer_perceptron.py:702: ConvergenceWarning: Stochastic Optimizer: Maximum iterations (1000) reached and the optimization hasn't converged yet.\n",
      "  warnings.warn(\n",
      "C:\\Users\\anagh\\AppData\\Local\\Programs\\Python\\Python310\\lib\\site-packages\\sklearn\\neural_network\\_multilayer_perceptron.py:1118: DataConversionWarning: A column-vector y was passed when a 1d array was expected. Please change the shape of y to (n_samples, ), for example using ravel().\n",
      "  y = column_or_1d(y, warn=True)\n"
     ]
    },
    {
     "name": "stdout",
     "output_type": "stream",
     "text": [
      "[0.9264705882352942, 0.9264705882352942, 0.9264705882352942, 0.9264705882352942, 0.9264705882352942]\n",
      "[1, 2, 3, 4, 5]\n"
     ]
    },
    {
     "name": "stderr",
     "output_type": "stream",
     "text": [
      "C:\\Users\\anagh\\AppData\\Local\\Programs\\Python\\Python310\\lib\\site-packages\\sklearn\\neural_network\\_multilayer_perceptron.py:702: ConvergenceWarning: Stochastic Optimizer: Maximum iterations (1000) reached and the optimization hasn't converged yet.\n",
      "  warnings.warn(\n"
     ]
    }
   ],
   "source": [
    "from sklearn.neural_network import MLPClassifier\n",
    "from sklearn.datasets import make_classification\n",
    "from sklearn.model_selection import train_test_split\n",
    "from sklearn.metrics import accuracy_score\n",
    "mlp = []\n",
    "epochs_sci = []\n",
    "\n",
    "clf = MLPClassifier(random_state=3, hidden_layer_sizes=200, max_iter=1000)\n",
    "\n",
    "for i in range(1,6):\n",
    "    epochs_sci.append(i)\n",
    "    clf.fit(x_test_normalize, y_test_normalize)\n",
    "    mlp.append(clf.score(x_test_normalize, y_test_normalize))\n",
    "\n",
    "print(mlp)\n",
    "print(epochs_sci)"
   ]
  },
  {
   "cell_type": "code",
   "execution_count": 16,
   "id": "a7e54b64",
   "metadata": {},
   "outputs": [
    {
     "data": {
      "image/png": "[encoded data removed]",
      "text/plain": [
       "<Figure size 432x288 with 1 Axes>"
      ]
     },
     "metadata": {
      "needs_background": "light"
     },
     "output_type": "display_data"
    }
   ],
   "source": [
    "plt.plot(epochs_sci,mlp)\n",
    "plt.xlabel('Epochs')\n",
    "plt.ylabel('Predictions')\n",
    "plt.show()"
   ]
  },
  {
   "cell_type": "code",
   "execution_count": 17,
   "id": "c5a5c938",
   "metadata": {},
   "outputs": [
    {
     "data": {
      "image/png": "[encoded data removed]",
      "text/plain": [
       "<Figure size 432x288 with 2 Axes>"
      ]
     },
     "metadata": {
      "needs_background": "light"
     },
     "output_type": "display_data"
    }
   ],
   "source": [
    "# Comapring the Accuracy of my algorithm against pre-existing scikit library algorithm with the help of matplotlib subplots\n",
    "\n",
    "x = epochs\n",
    "y1 = accu_list\n",
    "y2 = mlp\n",
    "ax1=plt.subplot(211)\n",
    "ax1.set_title('Accuracy of My Algorithm')\n",
    "plt.plot(y1)\n",
    "ax2=plt.subplot(212)\n",
    "ax2.set_title('Accuracy of Pre-defined Acikit Learn Algorithm')\n",
    "plt.plot(y2)\n",
    "plt.tight_layout()"
   ]
  },
  {
   "cell_type": "code",
   "execution_count": 18,
   "id": "74d4801f",
   "metadata": {},
   "outputs": [
    {
     "name": "stdout",
     "output_type": "stream",
     "text": [
      "0.16606263181506392 0.9854444566797068\n",
      "0.1695682841231485 0.9852495834344515\n",
      "0.17367526272176761 0.9853311467298241\n",
      "0.1739368931117986 0.9853353875927119\n",
      "0.1646355681294385 0.9854354951498445\n"
     ]
    }
   ],
   "source": [
    "# initialize empty lists to store the outputs later\n",
    "\n",
    "epochs = []\n",
    "accu_list = []\n",
    "error_list = []\n",
    "\n",
    "# loop 5 times to obtain a range of outputs five times\n",
    "for i in range(1,6):\n",
    "    \n",
    "    epochs.append(i)              # store the array of number of times the loop has run for graphical comparison later on\n",
    "    \n",
    "    # split the data into training and testing form\n",
    "\n",
    "    from sklearn.model_selection import train_test_split\n",
    "    \n",
    "    # repeat the above steps again to obtain variations in data and hence variations in output as well\n",
    "    \n",
    "    x_train, x_test, y_train, y_test = train_test_split(features, target, random_state=4, test_size = 0.33)    \n",
    "    \n",
    "    # normalize the data\n",
    "    \n",
    "    from sklearn import preprocessing\n",
    "    x_train_normalize = preprocessing.normalize(x_train)\n",
    "    x_test_normalize = preprocessing.normalize(x_test)\n",
    "    y_train_normalize = preprocessing.normalize(y_train)\n",
    "    y_test_normalize = preprocessing.normalize(y_test)\n",
    "    \n",
    "    # store the error and accuracy obtained after each prediction \n",
    "    \n",
    "    err, accu = predict(x_train_normalize, y_train_normalize)        # store the accuracy and error of the model \n",
    "    print(err, accu)\n",
    "    accu_list.append(accu)                                         # append the list of all accuracies in the accu_list \n",
    "    error_list.append(err)                                         # append the list of all error in the error_list"
   ]
  },
  {
   "cell_type": "code",
   "execution_count": 19,
   "id": "28b1d41a",
   "metadata": {},
   "outputs": [
    {
     "name": "stderr",
     "output_type": "stream",
     "text": [
      "C:\\Users\\anagh\\AppData\\Local\\Programs\\Python\\Python310\\lib\\site-packages\\sklearn\\neural_network\\_multilayer_perceptron.py:1118: DataConversionWarning: A column-vector y was passed when a 1d array was expected. Please change the shape of y to (n_samples, ), for example using ravel().\n",
      "  y = column_or_1d(y, warn=True)\n",
      "C:\\Users\\anagh\\AppData\\Local\\Programs\\Python\\Python310\\lib\\site-packages\\sklearn\\neural_network\\_multilayer_perceptron.py:702: ConvergenceWarning: Stochastic Optimizer: Maximum iterations (1000) reached and the optimization hasn't converged yet.\n",
      "  warnings.warn(\n",
      "C:\\Users\\anagh\\AppData\\Local\\Programs\\Python\\Python310\\lib\\site-packages\\sklearn\\neural_network\\_multilayer_perceptron.py:1118: DataConversionWarning: A column-vector y was passed when a 1d array was expected. Please change the shape of y to (n_samples, ), for example using ravel().\n",
      "  y = column_or_1d(y, warn=True)\n",
      "C:\\Users\\anagh\\AppData\\Local\\Programs\\Python\\Python310\\lib\\site-packages\\sklearn\\neural_network\\_multilayer_perceptron.py:702: ConvergenceWarning: Stochastic Optimizer: Maximum iterations (1000) reached and the optimization hasn't converged yet.\n",
      "  warnings.warn(\n",
      "C:\\Users\\anagh\\AppData\\Local\\Programs\\Python\\Python310\\lib\\site-packages\\sklearn\\neural_network\\_multilayer_perceptron.py:1118: DataConversionWarning: A column-vector y was passed when a 1d array was expected. Please change the shape of y to (n_samples, ), for example using ravel().\n",
      "  y = column_or_1d(y, warn=True)\n",
      "C:\\Users\\anagh\\AppData\\Local\\Programs\\Python\\Python310\\lib\\site-packages\\sklearn\\neural_network\\_multilayer_perceptron.py:702: ConvergenceWarning: Stochastic Optimizer: Maximum iterations (1000) reached and the optimization hasn't converged yet.\n",
      "  warnings.warn(\n",
      "C:\\Users\\anagh\\AppData\\Local\\Programs\\Python\\Python310\\lib\\site-packages\\sklearn\\neural_network\\_multilayer_perceptron.py:1118: DataConversionWarning: A column-vector y was passed when a 1d array was expected. Please change the shape of y to (n_samples, ), for example using ravel().\n",
      "  y = column_or_1d(y, warn=True)\n",
      "C:\\Users\\anagh\\AppData\\Local\\Programs\\Python\\Python310\\lib\\site-packages\\sklearn\\neural_network\\_multilayer_perceptron.py:702: ConvergenceWarning: Stochastic Optimizer: Maximum iterations (1000) reached and the optimization hasn't converged yet.\n",
      "  warnings.warn(\n",
      "C:\\Users\\anagh\\AppData\\Local\\Programs\\Python\\Python310\\lib\\site-packages\\sklearn\\neural_network\\_multilayer_perceptron.py:1118: DataConversionWarning: A column-vector y was passed when a 1d array was expected. Please change the shape of y to (n_samples, ), for example using ravel().\n",
      "  y = column_or_1d(y, warn=True)\n"
     ]
    },
    {
     "name": "stdout",
     "output_type": "stream",
     "text": [
      "[0.9264705882352942, 0.9264705882352942, 0.9264705882352942, 0.9264705882352942, 0.9264705882352942]\n",
      "[1, 2, 3, 4, 5]\n"
     ]
    },
    {
     "name": "stderr",
     "output_type": "stream",
     "text": [
      "C:\\Users\\anagh\\AppData\\Local\\Programs\\Python\\Python310\\lib\\site-packages\\sklearn\\neural_network\\_multilayer_perceptron.py:702: ConvergenceWarning: Stochastic Optimizer: Maximum iterations (1000) reached and the optimization hasn't converged yet.\n",
      "  warnings.warn(\n"
     ]
    }
   ],
   "source": [
    "from sklearn.neural_network import MLPClassifier\n",
    "from sklearn.datasets import make_classification\n",
    "from sklearn.model_selection import train_test_split\n",
    "from sklearn.metrics import accuracy_score\n",
    "mlp = []\n",
    "epochs_sci = []\n",
    "\n",
    "clf = MLPClassifier(random_state=3, hidden_layer_sizes=200, max_iter=1000)\n",
    "\n",
    "for i in range(1,6):\n",
    "    epochs_sci.append(i)\n",
    "    clf.fit(x_test_normalize, y_test_normalize)\n",
    "    mlp.append(clf.score(x_test_normalize, y_test_normalize))\n",
    "\n",
    "print(mlp)\n",
    "print(epochs_sci)"
   ]
  },
  {
   "cell_type": "code",
   "execution_count": 20,
   "id": "0586c1f7",
   "metadata": {},
   "outputs": [
    {
     "name": "stdout",
     "output_type": "stream",
     "text": [
      "0.1947084734119823 0.9860475495162215\n",
      "0.17183447422408063 0.9863438292759108\n",
      "0.1957308332280194 0.9861428099943274\n",
      "0.19367348607550064 0.9862049026757493\n",
      "0.18047733455596368 0.9863745418245011\n"
     ]
    }
   ],
   "source": [
    "# initialize empty lists to store the outputs later\n",
    "\n",
    "epochs = []\n",
    "accu_list = []\n",
    "error_list = []\n",
    "\n",
    "# loop 5 times to obtain a range of outputs five times\n",
    "for i in range(1,6):\n",
    "    \n",
    "    epochs.append(i)              # store the array of number of times the loop has run for graphical comparison later on\n",
    "    \n",
    "    # split the data into training and testing form\n",
    "\n",
    "    from sklearn.model_selection import train_test_split\n",
    "    \n",
    "    # repeat the above steps again to obtain variations in data and hence variations in output as well\n",
    "    \n",
    "    x_train, x_test, y_train, y_test = train_test_split(features, target, random_state=7, test_size = 0.33)    \n",
    "    \n",
    "    # normalize the data\n",
    "    \n",
    "    from sklearn import preprocessing\n",
    "    x_train_normalize = preprocessing.normalize(x_train)\n",
    "    x_test_normalize = preprocessing.normalize(x_test)\n",
    "    y_train_normalize = preprocessing.normalize(y_train)\n",
    "    y_test_normalize = preprocessing.normalize(y_test)\n",
    "    \n",
    "    # store the error and accuracy obtained after each prediction \n",
    "    \n",
    "    err, accu = predict(x_test_normalize, y_test_normalize)        # store the accuracy and error of the model \n",
    "    print(err, accu)\n",
    "    accu_list.append(accu)                                         # append the list of all accuracies in the accu_list \n",
    "    error_list.append(err)                                         # append the list of all error in the error_list"
   ]
  },
  {
   "cell_type": "code",
   "execution_count": 21,
   "id": "fca17530",
   "metadata": {},
   "outputs": [
    {
     "name": "stderr",
     "output_type": "stream",
     "text": [
      "C:\\Users\\anagh\\AppData\\Local\\Programs\\Python\\Python310\\lib\\site-packages\\sklearn\\neural_network\\_multilayer_perceptron.py:1118: DataConversionWarning: A column-vector y was passed when a 1d array was expected. Please change the shape of y to (n_samples, ), for example using ravel().\n",
      "  y = column_or_1d(y, warn=True)\n",
      "C:\\Users\\anagh\\AppData\\Local\\Programs\\Python\\Python310\\lib\\site-packages\\sklearn\\neural_network\\_multilayer_perceptron.py:1118: DataConversionWarning: A column-vector y was passed when a 1d array was expected. Please change the shape of y to (n_samples, ), for example using ravel().\n",
      "  y = column_or_1d(y, warn=True)\n",
      "C:\\Users\\anagh\\AppData\\Local\\Programs\\Python\\Python310\\lib\\site-packages\\sklearn\\neural_network\\_multilayer_perceptron.py:1118: DataConversionWarning: A column-vector y was passed when a 1d array was expected. Please change the shape of y to (n_samples, ), for example using ravel().\n",
      "  y = column_or_1d(y, warn=True)\n",
      "C:\\Users\\anagh\\AppData\\Local\\Programs\\Python\\Python310\\lib\\site-packages\\sklearn\\neural_network\\_multilayer_perceptron.py:1118: DataConversionWarning: A column-vector y was passed when a 1d array was expected. Please change the shape of y to (n_samples, ), for example using ravel().\n",
      "  y = column_or_1d(y, warn=True)\n",
      "C:\\Users\\anagh\\AppData\\Local\\Programs\\Python\\Python310\\lib\\site-packages\\sklearn\\neural_network\\_multilayer_perceptron.py:1118: DataConversionWarning: A column-vector y was passed when a 1d array was expected. Please change the shape of y to (n_samples, ), for example using ravel().\n",
      "  y = column_or_1d(y, warn=True)\n"
     ]
    },
    {
     "name": "stdout",
     "output_type": "stream",
     "text": [
      "[0.8823529411764706, 0.8823529411764706, 0.8823529411764706, 0.8823529411764706, 0.8823529411764706]\n",
      "[1, 2, 3, 4, 5]\n"
     ]
    }
   ],
   "source": [
    "from sklearn.neural_network import MLPClassifier\n",
    "from sklearn.datasets import make_classification\n",
    "from sklearn.model_selection import train_test_split\n",
    "from sklearn.metrics import accuracy_score\n",
    "mlp = []\n",
    "epochs_sci = []\n",
    "\n",
    "clf = MLPClassifier(random_state=7, hidden_layer_sizes=200, max_iter=1000)\n",
    "\n",
    "for i in range(1,6):\n",
    "    epochs_sci.append(i)\n",
    "    clf.fit(x_test_normalize, y_test_normalize)\n",
    "    mlp.append(clf.score(x_test_normalize, y_test_normalize))\n",
    "\n",
    "print(mlp)\n",
    "print(epochs_sci)"
   ]
  },
  {
   "cell_type": "code",
   "execution_count": 22,
   "id": "499691be",
   "metadata": {},
   "outputs": [
    {
     "name": "stdout",
     "output_type": "stream",
     "text": [
      "0.1702755571219741 0.9853423877636865\n",
      "0.16189972210056464 0.9854581655646429\n",
      "0.1668237362933423 0.9851589114942148\n",
      "0.15768584186983212 0.9856097376204617\n",
      "0.1726524237444778 0.9851864427017993\n"
     ]
    }
   ],
   "source": [
    "# initialize empty lists to store the outputs later\n",
    "\n",
    "epochs = []\n",
    "accu_list = []\n",
    "error_list = []\n",
    "\n",
    "# loop 5 times to obtain a range of outputs five times\n",
    "for i in range(1,6):\n",
    "    \n",
    "    epochs.append(i)              # store the array of number of times the loop has run for graphical comparison later on\n",
    "    \n",
    "    # split the data into training and testing form\n",
    "\n",
    "    from sklearn.model_selection import train_test_split\n",
    "    \n",
    "    # repeat the above steps again to obtain variations in data and hence variations in output as well\n",
    "    \n",
    "    x_train, x_test, y_train, y_test = train_test_split(features, target, random_state=2, test_size = 0.33)    \n",
    "    \n",
    "    # normalize the data\n",
    "    \n",
    "    from sklearn import preprocessing\n",
    "    x_train_normalize = preprocessing.normalize(x_train)\n",
    "    x_test_normalize = preprocessing.normalize(x_test)\n",
    "    y_train_normalize = preprocessing.normalize(y_train)\n",
    "    y_test_normalize = preprocessing.normalize(y_test)\n",
    "    \n",
    "    # store the error and accuracy obtained after each prediction \n",
    "    \n",
    "    err, accu = predict(x_train_normalize, y_train_normalize)        # store the accuracy and error of the model \n",
    "    print(err, accu)\n",
    "    accu_list.append(accu)                                         # append the list of all accuracies in the accu_list \n",
    "    error_list.append(err)                                         # append the list of all error in the error_list"
   ]
  },
  {
   "cell_type": "code",
   "execution_count": 24,
   "id": "b3f885d1",
   "metadata": {},
   "outputs": [
    {
     "name": "stderr",
     "output_type": "stream",
     "text": [
      "C:\\Users\\anagh\\AppData\\Local\\Programs\\Python\\Python310\\lib\\site-packages\\sklearn\\neural_network\\_multilayer_perceptron.py:1118: DataConversionWarning: A column-vector y was passed when a 1d array was expected. Please change the shape of y to (n_samples, ), for example using ravel().\n",
      "  y = column_or_1d(y, warn=True)\n",
      "C:\\Users\\anagh\\AppData\\Local\\Programs\\Python\\Python310\\lib\\site-packages\\sklearn\\neural_network\\_multilayer_perceptron.py:702: ConvergenceWarning: Stochastic Optimizer: Maximum iterations (1000) reached and the optimization hasn't converged yet.\n",
      "  warnings.warn(\n",
      "C:\\Users\\anagh\\AppData\\Local\\Programs\\Python\\Python310\\lib\\site-packages\\sklearn\\neural_network\\_multilayer_perceptron.py:1118: DataConversionWarning: A column-vector y was passed when a 1d array was expected. Please change the shape of y to (n_samples, ), for example using ravel().\n",
      "  y = column_or_1d(y, warn=True)\n",
      "C:\\Users\\anagh\\AppData\\Local\\Programs\\Python\\Python310\\lib\\site-packages\\sklearn\\neural_network\\_multilayer_perceptron.py:702: ConvergenceWarning: Stochastic Optimizer: Maximum iterations (1000) reached and the optimization hasn't converged yet.\n",
      "  warnings.warn(\n",
      "C:\\Users\\anagh\\AppData\\Local\\Programs\\Python\\Python310\\lib\\site-packages\\sklearn\\neural_network\\_multilayer_perceptron.py:1118: DataConversionWarning: A column-vector y was passed when a 1d array was expected. Please change the shape of y to (n_samples, ), for example using ravel().\n",
      "  y = column_or_1d(y, warn=True)\n",
      "C:\\Users\\anagh\\AppData\\Local\\Programs\\Python\\Python310\\lib\\site-packages\\sklearn\\neural_network\\_multilayer_perceptron.py:702: ConvergenceWarning: Stochastic Optimizer: Maximum iterations (1000) reached and the optimization hasn't converged yet.\n",
      "  warnings.warn(\n",
      "C:\\Users\\anagh\\AppData\\Local\\Programs\\Python\\Python310\\lib\\site-packages\\sklearn\\neural_network\\_multilayer_perceptron.py:1118: DataConversionWarning: A column-vector y was passed when a 1d array was expected. Please change the shape of y to (n_samples, ), for example using ravel().\n",
      "  y = column_or_1d(y, warn=True)\n",
      "C:\\Users\\anagh\\AppData\\Local\\Programs\\Python\\Python310\\lib\\site-packages\\sklearn\\neural_network\\_multilayer_perceptron.py:702: ConvergenceWarning: Stochastic Optimizer: Maximum iterations (1000) reached and the optimization hasn't converged yet.\n",
      "  warnings.warn(\n",
      "C:\\Users\\anagh\\AppData\\Local\\Programs\\Python\\Python310\\lib\\site-packages\\sklearn\\neural_network\\_multilayer_perceptron.py:1118: DataConversionWarning: A column-vector y was passed when a 1d array was expected. Please change the shape of y to (n_samples, ), for example using ravel().\n",
      "  y = column_or_1d(y, warn=True)\n"
     ]
    },
    {
     "name": "stdout",
     "output_type": "stream",
     "text": [
      "[0.9117647058823529, 0.9117647058823529, 0.9117647058823529, 0.9117647058823529, 0.9117647058823529]\n",
      "[1, 2, 3, 4, 5]\n"
     ]
    },
    {
     "name": "stderr",
     "output_type": "stream",
     "text": [
      "C:\\Users\\anagh\\AppData\\Local\\Programs\\Python\\Python310\\lib\\site-packages\\sklearn\\neural_network\\_multilayer_perceptron.py:702: ConvergenceWarning: Stochastic Optimizer: Maximum iterations (1000) reached and the optimization hasn't converged yet.\n",
      "  warnings.warn(\n"
     ]
    }
   ],
   "source": [
    "from sklearn.neural_network import MLPClassifier\n",
    "from sklearn.datasets import make_classification\n",
    "from sklearn.model_selection import train_test_split\n",
    "from sklearn.metrics import accuracy_score\n",
    "mlp = []\n",
    "epochs_sci = []\n",
    "\n",
    "clf = MLPClassifier(random_state=2, hidden_layer_sizes=200, max_iter=1000)\n",
    "\n",
    "for i in range(1,6):\n",
    "    epochs_sci.append(i)\n",
    "    clf.fit(x_test_normalize, y_test_normalize)\n",
    "    mlp.append(clf.score(x_test_normalize, y_test_normalize))\n",
    "\n",
    "print(mlp)\n",
    "print(epochs_sci)"
   ]
  },
  {
   "cell_type": "code",
   "execution_count": 25,
   "id": "bf4ea5cb",
   "metadata": {},
   "outputs": [
    {
     "name": "stderr",
     "output_type": "stream",
     "text": [
      "C:\\Users\\anagh\\AppData\\Local\\Programs\\Python\\Python310\\lib\\site-packages\\sklearn\\neural_network\\_multilayer_perceptron.py:1118: DataConversionWarning: A column-vector y was passed when a 1d array was expected. Please change the shape of y to (n_samples, ), for example using ravel().\n",
      "  y = column_or_1d(y, warn=True)\n",
      "C:\\Users\\anagh\\AppData\\Local\\Programs\\Python\\Python310\\lib\\site-packages\\sklearn\\neural_network\\_multilayer_perceptron.py:702: ConvergenceWarning: Stochastic Optimizer: Maximum iterations (1000) reached and the optimization hasn't converged yet.\n",
      "  warnings.warn(\n",
      "C:\\Users\\anagh\\AppData\\Local\\Programs\\Python\\Python310\\lib\\site-packages\\sklearn\\neural_network\\_multilayer_perceptron.py:1118: DataConversionWarning: A column-vector y was passed when a 1d array was expected. Please change the shape of y to (n_samples, ), for example using ravel().\n",
      "  y = column_or_1d(y, warn=True)\n",
      "C:\\Users\\anagh\\AppData\\Local\\Programs\\Python\\Python310\\lib\\site-packages\\sklearn\\neural_network\\_multilayer_perceptron.py:702: ConvergenceWarning: Stochastic Optimizer: Maximum iterations (1000) reached and the optimization hasn't converged yet.\n",
      "  warnings.warn(\n",
      "C:\\Users\\anagh\\AppData\\Local\\Programs\\Python\\Python310\\lib\\site-packages\\sklearn\\neural_network\\_multilayer_perceptron.py:1118: DataConversionWarning: A column-vector y was passed when a 1d array was expected. Please change the shape of y to (n_samples, ), for example using ravel().\n",
      "  y = column_or_1d(y, warn=True)\n",
      "C:\\Users\\anagh\\AppData\\Local\\Programs\\Python\\Python310\\lib\\site-packages\\sklearn\\neural_network\\_multilayer_perceptron.py:702: ConvergenceWarning: Stochastic Optimizer: Maximum iterations (1000) reached and the optimization hasn't converged yet.\n",
      "  warnings.warn(\n",
      "C:\\Users\\anagh\\AppData\\Local\\Programs\\Python\\Python310\\lib\\site-packages\\sklearn\\neural_network\\_multilayer_perceptron.py:1118: DataConversionWarning: A column-vector y was passed when a 1d array was expected. Please change the shape of y to (n_samples, ), for example using ravel().\n",
      "  y = column_or_1d(y, warn=True)\n",
      "C:\\Users\\anagh\\AppData\\Local\\Programs\\Python\\Python310\\lib\\site-packages\\sklearn\\neural_network\\_multilayer_perceptron.py:702: ConvergenceWarning: Stochastic Optimizer: Maximum iterations (1000) reached and the optimization hasn't converged yet.\n",
      "  warnings.warn(\n",
      "C:\\Users\\anagh\\AppData\\Local\\Programs\\Python\\Python310\\lib\\site-packages\\sklearn\\neural_network\\_multilayer_perceptron.py:1118: DataConversionWarning: A column-vector y was passed when a 1d array was expected. Please change the shape of y to (n_samples, ), for example using ravel().\n",
      "  y = column_or_1d(y, warn=True)\n"
     ]
    },
    {
     "name": "stdout",
     "output_type": "stream",
     "text": [
      "[0.9117647058823529, 0.9117647058823529, 0.9117647058823529, 0.9117647058823529, 0.9117647058823529]\n",
      "[1, 2, 3, 4, 5]\n"
     ]
    },
    {
     "name": "stderr",
     "output_type": "stream",
     "text": [
      "C:\\Users\\anagh\\AppData\\Local\\Programs\\Python\\Python310\\lib\\site-packages\\sklearn\\neural_network\\_multilayer_perceptron.py:702: ConvergenceWarning: Stochastic Optimizer: Maximum iterations (1000) reached and the optimization hasn't converged yet.\n",
      "  warnings.warn(\n"
     ]
    }
   ],
   "source": [
    "from sklearn.neural_network import MLPClassifier\n",
    "from sklearn.datasets import make_classification\n",
    "from sklearn.model_selection import train_test_split\n",
    "from sklearn.metrics import accuracy_score\n",
    "mlp = []\n",
    "epochs_sci = []\n",
    "\n",
    "clf = MLPClassifier(random_state=7, hidden_layer_sizes=200, max_iter=1000)\n",
    "\n",
    "for i in range(1,6):\n",
    "    epochs_sci.append(i)\n",
    "    clf.fit(x_test_normalize, y_test_normalize)\n",
    "    mlp.append(clf.score(x_test_normalize, y_test_normalize))\n",
    "\n",
    "print(mlp)\n",
    "print(epochs_sci)"
   ]
  },
  {
   "cell_type": "code",
   "execution_count": null,
   "id": "f19d6c09",
   "metadata": {},
   "outputs": [],
   "source": []
  }
 ],
 "metadata": {
  "kernelspec": {
   "display_name": "Python 3 (ipykernel)",
   "language": "python",
   "name": "python3"
  },
  "language_info": {
   "codemirror_mode": {
    "name": "ipython",
    "version": 3
   },
   "file_extension": ".py",
   "mimetype": "text/x-python",
   "name": "python",
   "nbconvert_exporter": "python",
   "pygments_lexer": "ipython3",
   "version": "3.10.5"
  }
 },
 "nbformat": 4,
 "nbformat_minor": 5
}
